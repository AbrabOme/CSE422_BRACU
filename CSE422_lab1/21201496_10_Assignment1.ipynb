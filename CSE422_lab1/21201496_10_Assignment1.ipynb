{
  "nbformat": 4,
  "nbformat_minor": 0,
  "metadata": {
    "colab": {
      "provenance": []
    },
    "kernelspec": {
      "name": "python3",
      "display_name": "Python 3"
    },
    "language_info": {
      "name": "python"
    }
  },
  "cells": [
    {
      "cell_type": "code",
      "execution_count": 1,
      "metadata": {
        "colab": {
          "base_uri": "https://localhost:8080/"
        },
        "id": "52mn95ltoes-",
        "outputId": "3d1da637-47b4-4c35-ba6b-d5faf9e2e891"
      },
      "outputs": [
        {
          "output_type": "stream",
          "name": "stdout",
          "text": [
            "Drive already mounted at /content/drive; to attempt to forcibly remount, call drive.mount(\"/content/drive\", force_remount=True).\n"
          ]
        }
      ],
      "source": [
        "from google.colab import drive\n",
        "drive.mount('/content/drive')"
      ]
    },
    {
      "cell_type": "code",
      "source": [
        "import math\n",
        "import heapq\n",
        "\n",
        "in1=open(\"input.txt\",\"r\")\n",
        "out1=open(\"output.txt\",\"w\")\n",
        "\n",
        "h_col={}\n",
        "graph={}\n",
        "informations=in1.readlines()\n",
        "\n",
        "for info in informations:\n",
        "    info_list=info.split()\n",
        "    name=info_list[0]\n",
        "    h_col[name]=int(info_list[1])\n",
        "    graph[name]=[]\n",
        "    for i in range(2, len(info_list),2):\n",
        "        graph[name].append([info_list[i],int(info_list[i+1])])\n",
        "\n",
        "\n",
        "distance={}\n",
        "parents={}\n",
        "function={}\n",
        "\n",
        "for start in graph:\n",
        "    distance[start]=math.inf\n",
        "    parents[start]=None\n",
        "    function[start]=math.inf\n",
        "\n",
        "visited=[]\n",
        "\n",
        "start=input(\"Give Source City Name: \")\n",
        "goal=input(\"Give Destination City Name: \")\n",
        "\n",
        "queue=[]\n",
        "\n",
        "function[start]=h_col[start]\n",
        "distance[start]=0\n",
        "queue.append((h_col[start],start,distance[start]))\n",
        "heapq.heapify(queue)\n",
        "\n",
        "found=True\n",
        "flag=True\n",
        "\n",
        "while flag:\n",
        "    fn_val,current,dis=heapq.heappop(queue)\n",
        "    visited.append(current)\n",
        "    for new_city, weight in graph[current]:\n",
        "        if new_city not in visited:\n",
        "            fn_n=h_col[new_city]+dis+weight\n",
        "            if function[new_city]!=math.inf:\n",
        "                if fn_n<function[new_city]:\n",
        "                    queue.remove((function[new_city],new_city,distance[new_city]))\n",
        "\n",
        "            function[new_city]=fn_n\n",
        "            distance[new_city]=dis+weight\n",
        "            parents[new_city]=current\n",
        "            heapq.heapify(queue)\n",
        "            heapq.heappush(queue,(function[new_city],new_city,distance[new_city]))\n",
        "            heapq.heapify(queue)\n",
        "\n",
        "    if current==goal:\n",
        "        flag=False\n",
        "    if len(queue)==0:\n",
        "        found=False\n",
        "        flag=False\n",
        "\n",
        "if found:\n",
        "    track=[]\n",
        "    trace=goal\n",
        "\n",
        "    while trace!=None:\n",
        "        track.append(trace)\n",
        "        trace=parents[trace]\n",
        "\n",
        "    print(\"Path: \", end=\"\")\n",
        "    out1.write(\"Path: \")\n",
        "    for i in range(len(track)-1,-1,-1):\n",
        "        if i!=0:\n",
        "            print(track[i], end=\" -> \")\n",
        "            out1.write(track[i]+\" -> \")\n",
        "        else:\n",
        "            print(track[i])\n",
        "            out1.write(track[i]+\"\\n\")\n",
        "    print(\"Total Distance:\", distance[goal],\"km\")\n",
        "    out1.write(\"Total Distance: \"+ str(distance[goal])+\" km\")\n",
        "else:\n",
        "    print(\"NO PATH FOUND\")\n",
        "    out1.write(\"NO PATH FOUND\")\n",
        "in1.close()"
      ],
      "metadata": {
        "colab": {
          "base_uri": "https://localhost:8080/"
        },
        "id": "RQeC099BEBHG",
        "outputId": "4bf73fec-ec40-4069-fb64-98f7ff5febb4"
      },
      "execution_count": 4,
      "outputs": [
        {
          "output_type": "stream",
          "name": "stdout",
          "text": [
            "Give Source City Name: Arad\n",
            "Give Destination City Name: Bucharest\n",
            "Path: Arad -> Sibiu -> RimnicuVilcea -> Pitesti -> Bucharest\n",
            "Total Distance: 418 km\n"
          ]
        }
      ]
    }
  ]
}